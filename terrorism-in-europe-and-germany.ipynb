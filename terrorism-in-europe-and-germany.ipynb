{
  "cells": [
    {
      "cell_type": "markdown",
      "metadata": {
        "_cell_guid": "31e0787c-0597-aedd-e09e-77c332b61f12"
      },
      "source": [
        "# Plotting where terrorist attacks happened in Europe and in Germany"
      ]
    },
    {
      "cell_type": "code",
      "execution_count": null,
      "metadata": {
        "_cell_guid": "bb5f7df7-bb24-0167-223a-ad1d5178f8f1"
      },
      "outputs": [],
      "source": [
        "import numpy as np\n",
        "import pandas as pd\n",
        "import matplotlib.pyplot as plt\n",
        "%matplotlib inline\n",
        "import plotly.offline as py\n",
        "py.init_notebook_mode(connected=True)\n",
        "import plotly.graph_objs as go\n",
        "from mpl_toolkits.basemap import Basemap\n",
        "import plotly.tools as tls\n",
        "import time\n",
        "import warnings\n",
        "warnings.filterwarnings('ignore')"
      ]
    },
    {
      "cell_type": "code",
      "execution_count": null,
      "metadata": {
        "_cell_guid": "341bcbf4-ad63-3075-cc94-0632415151fa"
      },
      "outputs": [],
      "source": [
        "terror_data = pd.read_csv('../input/globalterrorismdb_0616dist.csv', encoding='ISO-8859-1',\n",
        "                          usecols=[0, 1, 2, 3, 8,9, 10,11, 13, 14, 35, 84, 100, 103])\n",
        "terror_data = terror_data.rename(\n",
        "    columns={'eventid':'id', 'iyear':'year', 'imonth':'month', 'iday':'day',\n",
        "             'country_txt':'country', 'provstate':'state', 'targtype1_txt':'target',\n",
        "             'weaptype1_txt':'weapon', 'nkill':'fatalities', 'nwound':'injuries'})\n",
        "\n",
        "terror_data = terror_data[np.isfinite(terror_data.latitude)]\n",
        "terror_data = terror_data.sort_values(['country'], ascending = False)"
      ]
    },
    {
      "cell_type": "markdown",
      "metadata": {
        "_cell_guid": "31857a97-2a7c-f682-1787-e599afdb635c"
      },
      "source": [
        "# Terror attacks in Europe"
      ]
    },
    {
      "cell_type": "code",
      "execution_count": null,
      "metadata": {
        "_cell_guid": "3afe23ff-92bd-3a75-2b23-f16f2132f1dd"
      },
      "outputs": [],
      "source": [
        "plt.figure(figsize=(15,8))\n",
        "europe = terror_data[terror_data[\"region_txt\"].isin([\"Eastern Europe\", \"Western Europe\"])]\n",
        "\n",
        "EU = Basemap(projection='mill', llcrnrlat = 10, urcrnrlat = 75, llcrnrlon = -15, urcrnrlon = 70, resolution = 'h')\n",
        "EU.drawcoastlines()\n",
        "EU.drawcountries()\n",
        "EU.drawstates()\n",
        "\n",
        "x, y = EU(list(europe[\"longitude\"].astype(\"float\")), list(europe[\"latitude\"].astype(float)))\n",
        "EU.plot(x, y, \"go\", markersize = 4, alpha = 0.8, color = \"#66FF00\")\n",
        "\n",
        "plt.title('Terror Attacks on Europe (1970-2015)')\n",
        "plt.show()"
      ]
    },
    {
      "cell_type": "markdown",
      "metadata": {
        "_cell_guid": "c4762ede-1452-5b2c-3d24-83384373d71f"
      },
      "source": [
        "# What types of weapons were used?"
      ]
    },
    {
      "cell_type": "code",
      "execution_count": null,
      "metadata": {
        "_cell_guid": "735c2308-05be-c61d-746e-1a066045224f"
      },
      "outputs": [],
      "source": [
        "weaptype = terror_data[terror_data[\"region_txt\"]=='Western Europe'].groupby('weapon').size().order(ascending=False).head(10).to_frame(name = 'count').reset_index()\n",
        "\n",
        "weaptype"
      ]
    },
    {
      "cell_type": "markdown",
      "metadata": {
        "_cell_guid": "8adb7836-6a9c-9302-ebe4-dcce07bb23b2"
      },
      "source": [
        "# Where did attacks happen in Germany?"
      ]
    },
    {
      "cell_type": "code",
      "execution_count": null,
      "metadata": {
        "_cell_guid": "7e184aab-56f6-0a40-cdcd-78fdc31fb489"
      },
      "outputs": [],
      "source": [
        "# These coordinates form the bounding box of Germany\n",
        "bot, top, left, right = 5.87, 15.04, 47.26, 55.06 # just to zoom in to only Germany\n",
        "germany_map = Basemap(projection='merc', resolution='l',    llcrnrlat=left,    llcrnrlon=bot,    urcrnrlat=right,    urcrnrlon=top)\n",
        "germany = terror_data[terror_data[\"country\"] == \"Germany\"]\n",
        "x, y = germany_map(list(germany[\"longitude\"].astype(\"float\")), list(germany[\"latitude\"].astype(float)))"
      ]
    },
    {
      "cell_type": "code",
      "execution_count": null,
      "metadata": {
        "_cell_guid": "f6eb965a-f6c0-246c-a8b5-3096c08d3c13"
      },
      "outputs": [],
      "source": [
        "fig = plt.figure(figsize=(20,10))  # predefined figure size, change to your liking. \n",
        "plt.title('Terror Attacks in Germany by Weapon Type 1970-2015')\n",
        "# But doesn't matter if you save to any vector graphics format though (e.g. pdf)\n",
        "ax = fig.add_axes([0.05,0.05,0.9,0.85])\n",
        "\n",
        "# add county shapes from http://www.gadm.org/download\n",
        "#germany_map.readshapefile('data/shape_files/DEU_adm1', 'DEU_adm0', drawbounds=True)  # plots the state boundaries, read explanation below code\n",
        "germany_map.drawcoastlines()\n",
        "germany_map.drawcountries()\n",
        "germany_map.drawstates()\n",
        "germany_map.drawmapboundary()\n",
        "germany_map.fillcontinents(color='lightgray')\n",
        "\n",
        "germany_map.plot(x,y,'.', markersize = 10, alpha = 0.8, color = \"#FF0000\")"
      ]
    },
    {
      "cell_type": "markdown",
      "metadata": {
        "_cell_guid": "9340958c-01ae-0d3f-b1bc-5c42489ba05b"
      },
      "source": [
        "# What type of weapons were used?"
      ]
    },
    {
      "cell_type": "code",
      "execution_count": null,
      "metadata": {
        "_cell_guid": "8f816ac0-6e81-aa26-ebf1-c94a87650067"
      },
      "outputs": [],
      "source": [
        "weaptype = terror_data[terror_data[\"country\"]=='Germany'].groupby('weapon').size().order(ascending=False).head(10).to_frame(name = 'count').reset_index()\n",
        "\n",
        "weaptype"
      ]
    },
    {
      "cell_type": "code",
      "execution_count": null,
      "metadata": {
        "_cell_guid": "29b063be-1e22-d843-bddc-4e0dd7350749"
      },
      "outputs": [],
      "source": [
        "to be continued..."
      ]
    }
  ],
  "metadata": {
    "_change_revision": 0,
    "_is_fork": false,
    "kernelspec": {
      "display_name": "Python 3",
      "language": "python",
      "name": "python3"
    },
    "language_info": {
      "codemirror_mode": {
        "name": "ipython",
        "version": 3
      },
      "file_extension": ".py",
      "mimetype": "text/x-python",
      "name": "python",
      "nbconvert_exporter": "python",
      "pygments_lexer": "ipython3",
      "version": "3.5.2"
    }
  },
  "nbformat": 4,
  "nbformat_minor": 0
}