{
  "cells": [
    {
      "metadata": {
        "_uuid": "4409a2563bb589cf1e6741bd0620144d89769cef"
      },
      "cell_type": "markdown",
      "source": "**[Course Home Page](https://www.kaggle.com/learn/machine-learning-explainability)**\n\n---\n\n## Intro\n\nYou will think about and calculate permutation importance with a sample of data from the [Taxi Fare Prediction](https://www.kaggle.com/c/new-york-city-taxi-fare-prediction) competition.\n\nWe won't focus on data exploration or model building for now. You can just run the cell below to \n- Load the data\n- Divide the data into training and validation\n- Build a model that predicts taxi fares\n- Print a few rows for you to review"
    },
    {
      "metadata": {
        "_cell_guid": "b1076dfc-b9ad-4769-8c92-a6c4dae69d19",
        "_uuid": "8f2839f25d086af736a60e9eeb907d3b93b6e0e5",
        "trusted": true
      },
      "cell_type": "code",
      "source": "# Loading data, dividing, modeling and EDA below\nimport pandas as pd\nfrom sklearn.ensemble import RandomForestRegressor\nfrom sklearn.linear_model import LinearRegression\nfrom sklearn.model_selection import train_test_split\n\ndata = pd.read_csv('../input/new-york-city-taxi-fare-prediction/train.csv', nrows=50000)\n\n# Remove data with extreme outlier coordinates or negative fares\ndata = data.query('pickup_latitude > 40.7 and pickup_latitude < 40.8 and ' +\n                  'dropoff_latitude > 40.7 and dropoff_latitude < 40.8 and ' +\n                  'pickup_longitude > -74 and pickup_longitude < -73.9 and ' +\n                  'dropoff_longitude > -74 and dropoff_longitude < -73.9 and ' +\n                  'fare_amount > 0'\n                  )\n\ny = data.fare_amount\n\nbase_features = ['pickup_longitude',\n                 'pickup_latitude',\n                 'dropoff_longitude',\n                 'dropoff_latitude',\n                 'passenger_count']\n\nX = data[base_features]\n\n\ntrain_X, val_X, train_y, val_y = train_test_split(X, y, random_state=1)\nfirst_model = RandomForestRegressor(n_estimators=30, random_state=1).fit(train_X, train_y)\n\n# Environment Set-Up for feedback system.\nfrom learntools.core import binder\nbinder.bind(globals())\nfrom learntools.ml_insights.ex2 import *\nprint(\"Setup Complete\")\n\n# show data\nprint(\"Data sample:\")\ndata.head()",
      "execution_count": 4,
      "outputs": [
        {
          "output_type": "stream",
          "text": "WARNING:root:Ignoring repeated attempt to bind to globals\n",
          "name": "stderr"
        },
        {
          "output_type": "stream",
          "text": "Setup Complete\nData sample:\n",
          "name": "stdout"
        },
        {
          "output_type": "execute_result",
          "execution_count": 4,
          "data": {
            "text/plain": "                             key       ...         passenger_count\n2   2011-08-18 00:35:00.00000049       ...                       2\n3    2012-04-21 04:30:42.0000001       ...                       1\n4  2010-03-09 07:51:00.000000135       ...                       1\n6    2012-11-20 20:35:00.0000001       ...                       1\n7   2012-01-04 17:22:00.00000081       ...                       1\n\n[5 rows x 8 columns]",
            "text/html": "<div>\n<style scoped>\n    .dataframe tbody tr th:only-of-type {\n        vertical-align: middle;\n    }\n\n    .dataframe tbody tr th {\n        vertical-align: top;\n    }\n\n    .dataframe thead th {\n        text-align: right;\n    }\n</style>\n<table border=\"1\" class=\"dataframe\">\n  <thead>\n    <tr style=\"text-align: right;\">\n      <th></th>\n      <th>key</th>\n      <th>fare_amount</th>\n      <th>pickup_datetime</th>\n      <th>pickup_longitude</th>\n      <th>pickup_latitude</th>\n      <th>dropoff_longitude</th>\n      <th>dropoff_latitude</th>\n      <th>passenger_count</th>\n    </tr>\n  </thead>\n  <tbody>\n    <tr>\n      <th>2</th>\n      <td>2011-08-18 00:35:00.00000049</td>\n      <td>5.7</td>\n      <td>2011-08-18 00:35:00 UTC</td>\n      <td>-73.982738</td>\n      <td>40.761270</td>\n      <td>-73.991242</td>\n      <td>40.750562</td>\n      <td>2</td>\n    </tr>\n    <tr>\n      <th>3</th>\n      <td>2012-04-21 04:30:42.0000001</td>\n      <td>7.7</td>\n      <td>2012-04-21 04:30:42 UTC</td>\n      <td>-73.987130</td>\n      <td>40.733143</td>\n      <td>-73.991567</td>\n      <td>40.758092</td>\n      <td>1</td>\n    </tr>\n    <tr>\n      <th>4</th>\n      <td>2010-03-09 07:51:00.000000135</td>\n      <td>5.3</td>\n      <td>2010-03-09 07:51:00 UTC</td>\n      <td>-73.968095</td>\n      <td>40.768008</td>\n      <td>-73.956655</td>\n      <td>40.783762</td>\n      <td>1</td>\n    </tr>\n    <tr>\n      <th>6</th>\n      <td>2012-11-20 20:35:00.0000001</td>\n      <td>7.5</td>\n      <td>2012-11-20 20:35:00 UTC</td>\n      <td>-73.980002</td>\n      <td>40.751662</td>\n      <td>-73.973802</td>\n      <td>40.764842</td>\n      <td>1</td>\n    </tr>\n    <tr>\n      <th>7</th>\n      <td>2012-01-04 17:22:00.00000081</td>\n      <td>16.5</td>\n      <td>2012-01-04 17:22:00 UTC</td>\n      <td>-73.951300</td>\n      <td>40.774138</td>\n      <td>-73.990095</td>\n      <td>40.751048</td>\n      <td>1</td>\n    </tr>\n  </tbody>\n</table>\n</div>"
          },
          "metadata": {}
        }
      ]
    },
    {
      "metadata": {
        "_uuid": "a4fb876a0262612e611d23b2f86bd5d6d6978ca5"
      },
      "cell_type": "markdown",
      "source": "The following two cells may also be useful to understand the values in the training data:"
    },
    {
      "metadata": {
        "_uuid": "e89eb8d23e55d235d74adb45758bd69a2be9414a",
        "trusted": true
      },
      "cell_type": "code",
      "source": "train_X.describe()",
      "execution_count": 5,
      "outputs": [
        {
          "output_type": "execute_result",
          "execution_count": 5,
          "data": {
            "text/plain": "       pickup_longitude       ...         passenger_count\ncount      23466.000000       ...            23466.000000\nmean         -73.976827       ...                1.662320\nstd            0.014625       ...                1.290729\nmin          -73.999999       ...                0.000000\n25%          -73.987964       ...                1.000000\n50%          -73.979629       ...                1.000000\n75%          -73.967797       ...                2.000000\nmax          -73.900062       ...                6.000000\n\n[8 rows x 5 columns]",
            "text/html": "<div>\n<style scoped>\n    .dataframe tbody tr th:only-of-type {\n        vertical-align: middle;\n    }\n\n    .dataframe tbody tr th {\n        vertical-align: top;\n    }\n\n    .dataframe thead th {\n        text-align: right;\n    }\n</style>\n<table border=\"1\" class=\"dataframe\">\n  <thead>\n    <tr style=\"text-align: right;\">\n      <th></th>\n      <th>pickup_longitude</th>\n      <th>pickup_latitude</th>\n      <th>dropoff_longitude</th>\n      <th>dropoff_latitude</th>\n      <th>passenger_count</th>\n    </tr>\n  </thead>\n  <tbody>\n    <tr>\n      <th>count</th>\n      <td>23466.000000</td>\n      <td>23466.000000</td>\n      <td>23466.000000</td>\n      <td>23466.000000</td>\n      <td>23466.000000</td>\n    </tr>\n    <tr>\n      <th>mean</th>\n      <td>-73.976827</td>\n      <td>40.756931</td>\n      <td>-73.975359</td>\n      <td>40.757434</td>\n      <td>1.662320</td>\n    </tr>\n    <tr>\n      <th>std</th>\n      <td>0.014625</td>\n      <td>0.018206</td>\n      <td>0.015930</td>\n      <td>0.018659</td>\n      <td>1.290729</td>\n    </tr>\n    <tr>\n      <th>min</th>\n      <td>-73.999999</td>\n      <td>40.700013</td>\n      <td>-73.999999</td>\n      <td>40.700020</td>\n      <td>0.000000</td>\n    </tr>\n    <tr>\n      <th>25%</th>\n      <td>-73.987964</td>\n      <td>40.744901</td>\n      <td>-73.987143</td>\n      <td>40.745756</td>\n      <td>1.000000</td>\n    </tr>\n    <tr>\n      <th>50%</th>\n      <td>-73.979629</td>\n      <td>40.758076</td>\n      <td>-73.978588</td>\n      <td>40.758542</td>\n      <td>1.000000</td>\n    </tr>\n    <tr>\n      <th>75%</th>\n      <td>-73.967797</td>\n      <td>40.769602</td>\n      <td>-73.966459</td>\n      <td>40.770406</td>\n      <td>2.000000</td>\n    </tr>\n    <tr>\n      <th>max</th>\n      <td>-73.900062</td>\n      <td>40.799952</td>\n      <td>-73.900062</td>\n      <td>40.799999</td>\n      <td>6.000000</td>\n    </tr>\n  </tbody>\n</table>\n</div>"
          },
          "metadata": {}
        }
      ]
    },
    {
      "metadata": {
        "_uuid": "40e521793e265923913c656be021f652a65cceb8",
        "trusted": true
      },
      "cell_type": "code",
      "source": "train_y.describe()",
      "execution_count": 6,
      "outputs": [
        {
          "output_type": "execute_result",
          "execution_count": 6,
          "data": {
            "text/plain": "count    23466.000000\nmean         8.472539\nstd          4.609747\nmin          0.010000\n25%          5.500000\n50%          7.500000\n75%         10.100000\nmax        165.000000\nName: fare_amount, dtype: float64"
          },
          "metadata": {}
        }
      ]
    },
    {
      "metadata": {
        "_uuid": "481278e814ca709261f9f9f4f83e536086a942fc"
      },
      "cell_type": "markdown",
      "source": "## Question 1\n\nThe first model uses the following features\n- pickup_longitude\n- pickup_latitude\n- dropoff_longitude\n- dropoff_latitude\n- passenger_count\n\nBefore running any code... which variables seem potentially useful for predicting taxi fares? Do you think permutation importance will necessarily identify these features as important?\n\nOnce you've thought about it, run `q_1.solution()` below to see how you might think about this before running the code."
    },
    {
      "metadata": {
        "_uuid": "9d3cf108b73cac3fc6c0745af62774368db44296",
        "trusted": true
      },
      "cell_type": "code",
      "source": "q_1.solution()",
      "execution_count": 7,
      "outputs": [
        {
          "output_type": "display_data",
          "data": {
            "text/plain": "<IPython.core.display.Javascript object>",
            "application/javascript": "parent.postMessage({\"jupyterEvent\": \"custom.exercise_interaction\", \"data\": {\"interactionType\": 3, \"learnTutorialId\": 131, \"questionId\": \"1_WhichFeaturesAreUseful\", \"learnToolsVersion\": \"0.2.9\", \"valueTowardsCompletion\": 0.0, \"failureMessage\": \"\", \"exceptionClass\": \"\", \"trace\": \"\", \"outcomeType\": 4}}, \"*\")"
          },
          "metadata": {}
        },
        {
          "output_type": "display_data",
          "data": {
            "text/plain": "Solution: It would be helpful to know whether New York City taxis\n    vary prices based on how many passengers they have. Most places do not\n    change fares based on numbers of passengers.\n    If you assume New York City is the same, than only the top 4 features listed should matter. At first glance, it seems all of those should matter equally.\n    ",
            "text/markdown": "<span style=\"color:#33cc99\">Solution:</span> It would be helpful to know whether New York City taxis\n    vary prices based on how many passengers they have. Most places do not\n    change fares based on numbers of passengers.\n    If you assume New York City is the same, than only the top 4 features listed should matter. At first glance, it seems all of those should matter equally.\n    "
          },
          "metadata": {}
        }
      ]
    },
    {
      "metadata": {
        "_uuid": "e53b165e59c15c611936f080db5682320407efae"
      },
      "cell_type": "markdown",
      "source": "## Question 2\n\nCreate a `PermutationImportance` object called `perm` to show the importances from `first_model`.  Fit it with the appropriate data and show the weights.\n\nFor your convenience, the code from the tutorial has been copied into a comment in this code cell."
    },
    {
      "metadata": {
        "_uuid": "301114da26bc362f76dba19eb83ee5d1d50dfe39",
        "trusted": true
      },
      "cell_type": "code",
      "source": "import eli5\nfrom eli5.sklearn import PermutationImportance\n\n# Make a small change to the code below to use in this problem. \nperm = PermutationImportance(first_model, random_state=1).fit(val_X, val_y)\n\nq_2.check()\n\n# uncomment the following line to visualize your results\neli5.show_weights(perm, feature_names = val_X.columns.tolist())",
      "execution_count": 9,
      "outputs": [
        {
          "output_type": "display_data",
          "data": {
            "text/plain": "<IPython.core.display.Javascript object>",
            "application/javascript": "parent.postMessage({\"jupyterEvent\": \"custom.exercise_interaction\", \"data\": {\"outcomeType\": 1, \"valueTowardsCompletion\": 0.5, \"interactionType\": 1, \"learnTutorialId\": 131, \"questionId\": \"2_FirstPermImportance\", \"learnToolsVersion\": \"0.2.9\", \"failureMessage\": \"\", \"exceptionClass\": \"\", \"trace\": \"\"}}, \"*\")"
          },
          "metadata": {}
        },
        {
          "output_type": "display_data",
          "data": {
            "text/plain": "Correct",
            "text/markdown": "<span style=\"color:#33cc33\">Correct</span>"
          },
          "metadata": {}
        },
        {
          "output_type": "execute_result",
          "execution_count": 9,
          "data": {
            "text/plain": "<IPython.core.display.HTML object>",
            "text/html": "\n    <style>\n    table.eli5-weights tr:hover {\n        filter: brightness(85%);\n    }\n</style>\n\n\n\n    \n\n    \n\n    \n\n    \n\n    \n\n    \n\n\n    \n\n    \n\n    \n\n    \n\n    \n\n    \n\n\n    \n\n    \n\n    \n\n    \n\n    \n        <table class=\"eli5-weights eli5-feature-importances\" style=\"border-collapse: collapse; border: none; margin-top: 0em; table-layout: auto;\">\n    <thead>\n    <tr style=\"border: none;\">\n        <th style=\"padding: 0 1em 0 0.5em; text-align: right; border: none;\">Weight</th>\n        <th style=\"padding: 0 0.5em 0 0.5em; text-align: left; border: none;\">Feature</th>\n    </tr>\n    </thead>\n    <tbody>\n    \n        <tr style=\"background-color: hsl(120, 100.00%, 80.00%); border: none;\">\n            <td style=\"padding: 0 1em 0 0.5em; text-align: right; border: none;\">\n                0.8477\n                \n                    &plusmn; 0.0190\n                \n            </td>\n            <td style=\"padding: 0 0.5em 0 0.5em; text-align: left; border: none;\">\n                dropoff_latitude\n            </td>\n        </tr>\n    \n        <tr style=\"background-color: hsl(120, 100.00%, 80.34%); border: none;\">\n            <td style=\"padding: 0 1em 0 0.5em; text-align: right; border: none;\">\n                0.8272\n                \n                    &plusmn; 0.0264\n                \n            </td>\n            <td style=\"padding: 0 0.5em 0 0.5em; text-align: left; border: none;\">\n                pickup_latitude\n            </td>\n        </tr>\n    \n        <tr style=\"background-color: hsl(120, 100.00%, 83.88%); border: none;\">\n            <td style=\"padding: 0 1em 0 0.5em; text-align: right; border: none;\">\n                0.6228\n                \n                    &plusmn; 0.0562\n                \n            </td>\n            <td style=\"padding: 0 0.5em 0 0.5em; text-align: left; border: none;\">\n                pickup_longitude\n            </td>\n        </tr>\n    \n        <tr style=\"background-color: hsl(120, 100.00%, 85.45%); border: none;\">\n            <td style=\"padding: 0 1em 0 0.5em; text-align: right; border: none;\">\n                0.5383\n                \n                    &plusmn; 0.0303\n                \n            </td>\n            <td style=\"padding: 0 0.5em 0 0.5em; text-align: left; border: none;\">\n                dropoff_longitude\n            </td>\n        </tr>\n    \n        <tr style=\"background-color: hsl(0, 100.00%, 99.62%); border: none;\">\n            <td style=\"padding: 0 1em 0 0.5em; text-align: right; border: none;\">\n                -0.0029\n                \n                    &plusmn; 0.0020\n                \n            </td>\n            <td style=\"padding: 0 0.5em 0 0.5em; text-align: left; border: none;\">\n                passenger_count\n            </td>\n        </tr>\n    \n    \n    </tbody>\n</table>\n    \n\n    \n\n\n    \n\n    \n\n    \n\n    \n\n    \n\n    \n\n\n\n"
          },
          "metadata": {}
        }
      ]
    },
    {
      "metadata": {
        "_uuid": "dbee11d6ffe176737f04f42d61c904cd874e34a4"
      },
      "cell_type": "markdown",
      "source": "Uncomment the lines below for a hint or to see the solution."
    },
    {
      "metadata": {
        "_uuid": "6fc7042e21442a4d25db374f069ce17081b80a23",
        "trusted": true
      },
      "cell_type": "code",
      "source": "# q_2.hint()\nq_2.solution()",
      "execution_count": 10,
      "outputs": [
        {
          "output_type": "display_data",
          "data": {
            "text/plain": "<IPython.core.display.Javascript object>",
            "application/javascript": "parent.postMessage({\"jupyterEvent\": \"custom.exercise_interaction\", \"data\": {\"interactionType\": 3, \"learnTutorialId\": 131, \"questionId\": \"2_FirstPermImportance\", \"learnToolsVersion\": \"0.2.9\", \"valueTowardsCompletion\": 0.0, \"failureMessage\": \"\", \"exceptionClass\": \"\", \"trace\": \"\", \"outcomeType\": 4}}, \"*\")"
          },
          "metadata": {}
        },
        {
          "output_type": "display_data",
          "data": {
            "text/plain": "Solution: \n```python\n\nimport eli5\nfrom eli5.sklearn import PermutationImportance\n\nperm = PermutationImportance(first_model, random_state=1).fit(val_X, val_y)\neli5.show_weights(perm, feature_names = base_features)\n\n```",
            "text/markdown": "<span style=\"color:#33cc99\">Solution:</span> \n```python\n\nimport eli5\nfrom eli5.sklearn import PermutationImportance\n\nperm = PermutationImportance(first_model, random_state=1).fit(val_X, val_y)\neli5.show_weights(perm, feature_names = base_features)\n\n```"
          },
          "metadata": {}
        }
      ]
    },
    {
      "metadata": {
        "_uuid": "13f362e945e1983d03988034e63d0009f7512cf4"
      },
      "cell_type": "markdown",
      "source": "## Question 3\nBefore seeing these results, we might have expected each of the 4 directional features to be equally important.\n\nBut, on average, the latitude features matter more than the longititude features. Can you come up with any hypotheses for this?\n\nAfter you've thought about it, check here for some possible explanations:"
    },
    {
      "metadata": {
        "_uuid": "9b22526128a6e0e85d3d91b4a3f926974247fb3e",
        "trusted": true
      },
      "cell_type": "code",
      "source": "q_3.solution()",
      "execution_count": 11,
      "outputs": [
        {
          "output_type": "display_data",
          "data": {
            "text/plain": "<IPython.core.display.Javascript object>",
            "application/javascript": "parent.postMessage({\"jupyterEvent\": \"custom.exercise_interaction\", \"data\": {\"interactionType\": 3, \"learnTutorialId\": 131, \"questionId\": \"3_WhyLatitude\", \"learnToolsVersion\": \"0.2.9\", \"valueTowardsCompletion\": 0.0, \"failureMessage\": \"\", \"exceptionClass\": \"\", \"trace\": \"\", \"outcomeType\": 4}}, \"*\")"
          },
          "metadata": {}
        },
        {
          "output_type": "display_data",
          "data": {
            "text/plain": "Solution: \n    1. Travel might tend to have greater latitude distances than longitude distances. If the longitudes values were generally closer together, shuffling them wouldn't matter as much.\n    2. Different parts of the city might have different pricing rules (e.g. price per mile), and pricing rules could vary more by latitude than longitude.\n    3. Tolls might be greater on roads going North<->South (changing latitude) than on roads going East <-> West (changing longitude).  Thus latitude would have a larger effect on the prediction because it captures the amount of the tolls.\n    ",
            "text/markdown": "<span style=\"color:#33cc99\">Solution:</span> \n    1. Travel might tend to have greater latitude distances than longitude distances. If the longitudes values were generally closer together, shuffling them wouldn't matter as much.\n    2. Different parts of the city might have different pricing rules (e.g. price per mile), and pricing rules could vary more by latitude than longitude.\n    3. Tolls might be greater on roads going North<->South (changing latitude) than on roads going East <-> West (changing longitude).  Thus latitude would have a larger effect on the prediction because it captures the amount of the tolls.\n    "
          },
          "metadata": {}
        }
      ]
    },
    {
      "metadata": {
        "_uuid": "69e9658483f66cd01a1718e6af68417d7fd4f6b5"
      },
      "cell_type": "markdown",
      "source": "## Question 4\n\nWithout detailed knowledge of New York City, it's difficult to rule out most hypotheses about why latitude features matter more than longitude.\n\nA good next step is to disentangle the effect of being in certain parts of the city from the effect of total distance traveled.  \n\nThe code below creates new features for longitudinal and latitudinal distance. It then builds a model that adds these new features to those you already had.\n\nFill in two lines of code to calculate and show the importance weights with this new set of features. As usual, you can uncomment lines below to check your code, see a hint or get the solution."
    },
    {
      "metadata": {
        "_uuid": "d9c5bb5a8b5804172148d7ea8b5434393612ab0f",
        "trusted": true
      },
      "cell_type": "code",
      "source": "# create new features\ndata['abs_lon_change'] = abs(data.dropoff_longitude - data.pickup_longitude)\ndata['abs_lat_change'] = abs(data.dropoff_latitude - data.pickup_latitude)\n\nfeatures_2  = ['pickup_longitude',\n               'pickup_latitude',\n               'dropoff_longitude',\n               'dropoff_latitude',\n               'abs_lat_change',\n               'abs_lon_change']\n\nX = data[features_2]\nnew_train_X, new_val_X, new_train_y, new_val_y = train_test_split(X, y, random_state=1)\nsecond_model = RandomForestRegressor(n_estimators=30, random_state=1).fit(new_train_X, new_train_y)\n\n# Create a PermutationImportance object on second_model and fit it to new_val_X and new_val_y\n# Use a random_state of 1 for reproducible results that match the expected solution.\nperm2 = PermutationImportance(second_model, random_state=1).fit(new_val_X, new_val_y) \n\n# show the weights for the permutation importance you just calculated\neli5.show_weights(perm2, feature_names = features_2)\n\n#q_4.check()",
      "execution_count": 14,
      "outputs": [
        {
          "output_type": "execute_result",
          "execution_count": 14,
          "data": {
            "text/plain": "<IPython.core.display.HTML object>",
            "text/html": "\n    <style>\n    table.eli5-weights tr:hover {\n        filter: brightness(85%);\n    }\n</style>\n\n\n\n    \n\n    \n\n    \n\n    \n\n    \n\n    \n\n\n    \n\n    \n\n    \n\n    \n\n    \n\n    \n\n\n    \n\n    \n\n    \n\n    \n\n    \n        <table class=\"eli5-weights eli5-feature-importances\" style=\"border-collapse: collapse; border: none; margin-top: 0em; table-layout: auto;\">\n    <thead>\n    <tr style=\"border: none;\">\n        <th style=\"padding: 0 1em 0 0.5em; text-align: right; border: none;\">Weight</th>\n        <th style=\"padding: 0 0.5em 0 0.5em; text-align: left; border: none;\">Feature</th>\n    </tr>\n    </thead>\n    <tbody>\n    \n        <tr style=\"background-color: hsl(120, 100.00%, 80.00%); border: none;\">\n            <td style=\"padding: 0 1em 0 0.5em; text-align: right; border: none;\">\n                0.5786\n                \n                    &plusmn; 0.0294\n                \n            </td>\n            <td style=\"padding: 0 0.5em 0 0.5em; text-align: left; border: none;\">\n                abs_lat_change\n            </td>\n        </tr>\n    \n        <tr style=\"background-color: hsl(120, 100.00%, 83.31%); border: none;\">\n            <td style=\"padding: 0 1em 0 0.5em; text-align: right; border: none;\">\n                0.4469\n                \n                    &plusmn; 0.0509\n                \n            </td>\n            <td style=\"padding: 0 0.5em 0 0.5em; text-align: left; border: none;\">\n                abs_lon_change\n            </td>\n        </tr>\n    \n        <tr style=\"background-color: hsl(120, 100.00%, 94.74%); border: none;\">\n            <td style=\"padding: 0 1em 0 0.5em; text-align: right; border: none;\">\n                0.0860\n                \n                    &plusmn; 0.0334\n                \n            </td>\n            <td style=\"padding: 0 0.5em 0 0.5em; text-align: left; border: none;\">\n                pickup_latitude\n            </td>\n        </tr>\n    \n        <tr style=\"background-color: hsl(120, 100.00%, 95.28%); border: none;\">\n            <td style=\"padding: 0 1em 0 0.5em; text-align: right; border: none;\">\n                0.0735\n                \n                    &plusmn; 0.0114\n                \n            </td>\n            <td style=\"padding: 0 0.5em 0 0.5em; text-align: left; border: none;\">\n                dropoff_latitude\n            </td>\n        </tr>\n    \n        <tr style=\"background-color: hsl(120, 100.00%, 95.28%); border: none;\">\n            <td style=\"padding: 0 1em 0 0.5em; text-align: right; border: none;\">\n                0.0735\n                \n                    &plusmn; 0.0101\n                \n            </td>\n            <td style=\"padding: 0 0.5em 0 0.5em; text-align: left; border: none;\">\n                dropoff_longitude\n            </td>\n        </tr>\n    \n        <tr style=\"background-color: hsl(120, 100.00%, 95.86%); border: none;\">\n            <td style=\"padding: 0 1em 0 0.5em; text-align: right; border: none;\">\n                0.0609\n                \n                    &plusmn; 0.0067\n                \n            </td>\n            <td style=\"padding: 0 0.5em 0 0.5em; text-align: left; border: none;\">\n                pickup_longitude\n            </td>\n        </tr>\n    \n    \n    </tbody>\n</table>\n    \n\n    \n\n\n    \n\n    \n\n    \n\n    \n\n    \n\n    \n\n\n\n"
          },
          "metadata": {}
        }
      ]
    },
    {
      "metadata": {
        "_uuid": "ad77cc082e6e8ebac9ba51031b922aec763fdc09"
      },
      "cell_type": "markdown",
      "source": "How would you interpret these importance scores? Distance traveled seems far more important than any location effects. \n\nBut the location still affects model predictions, and dropoff location now matters slightly more than pickup location. Do you have any hypotheses for why this might be? The techniques used later in the course will help us dive into this more."
    },
    {
      "metadata": {
        "_uuid": "eadad7bbe454d8eaa6cf5959d19805fc4e2cd3fc",
        "trusted": true
      },
      "cell_type": "code",
      "source": "#q_4.solution()",
      "execution_count": 15,
      "outputs": []
    },
    {
      "metadata": {
        "_uuid": "1268ac74366ad33d22cf603a9d1e6195ccb98744"
      },
      "cell_type": "markdown",
      "source": "## Question 5\n\nA colleague observes that the values for `abs_lon_change` and `abs_lat_change` are pretty small (all values are between -0.1 and 0.1), whereas other variables have larger values.  Do you think this could explain why those coordinates had larger permutation importance values in this case?  \n\nConsider an alternative where you created and used a feature that was 100X as large for these features, and used that larger feature for training and importance calculations. Would this change the outputted permutaiton importance values?\n\nWhy or why not?\n\nAfter you have thought about your answer, either try this experiment or look up the answer in the cell below"
    },
    {
      "metadata": {
        "_uuid": "cb13d2126f1e833ded8ba47a086c172eb6c3c00f",
        "trusted": true
      },
      "cell_type": "code",
      "source": "q_5.solution()",
      "execution_count": 16,
      "outputs": [
        {
          "output_type": "display_data",
          "data": {
            "text/plain": "<IPython.core.display.Javascript object>",
            "application/javascript": "parent.postMessage({\"jupyterEvent\": \"custom.exercise_interaction\", \"data\": {\"interactionType\": 3, \"learnTutorialId\": 131, \"questionId\": \"5_ScaleUpFeatureMagnitude\", \"learnToolsVersion\": \"0.2.9\", \"valueTowardsCompletion\": 0.0, \"failureMessage\": \"\", \"exceptionClass\": \"\", \"trace\": \"\", \"outcomeType\": 4}}, \"*\")"
          },
          "metadata": {}
        },
        {
          "output_type": "display_data",
          "data": {
            "text/plain": "Solution: \n    The scale of features does not affect permutation importance per se. The only reason that rescaling a feature would affect PI is indirectly, if rescaling helped or hurt the ability of the particular learning method we're using to make use of that feature.\n    That won't happen with tree based models, like the Random Forest used here.\n    If you are familiar with Ridge Regression, you might be able to think of how that would be affected.\n    That said, the absolute change features are have high importance because they capture total distance traveled, which is the primary determinant of taxi fares...It is not an artifact of the feature magnitude.\n    ",
            "text/markdown": "<span style=\"color:#33cc99\">Solution:</span> \n    The scale of features does not affect permutation importance per se. The only reason that rescaling a feature would affect PI is indirectly, if rescaling helped or hurt the ability of the particular learning method we're using to make use of that feature.\n    That won't happen with tree based models, like the Random Forest used here.\n    If you are familiar with Ridge Regression, you might be able to think of how that would be affected.\n    That said, the absolute change features are have high importance because they capture total distance traveled, which is the primary determinant of taxi fares...It is not an artifact of the feature magnitude.\n    "
          },
          "metadata": {}
        }
      ]
    },
    {
      "metadata": {
        "_uuid": "5ec441521bbd2c55d74d23ff25962045ef581fd0"
      },
      "cell_type": "markdown",
      "source": "## Question 6\n\nYou've seen that the feature importance for latitudinal distance is greater than the importance of longitudinal distance. From this, can we conclude whether travelling a fixed latitudinal distance tends to be more expensive than traveling the same longitudinal distance?\n\nWhy or why not? Check your answer below."
    },
    {
      "metadata": {
        "_uuid": "70ba640d0afa1ead1ddcc28ee50fa8799f3b5435",
        "trusted": true
      },
      "cell_type": "code",
      "source": "q_6.solution()",
      "execution_count": 17,
      "outputs": [
        {
          "output_type": "display_data",
          "data": {
            "text/plain": "<IPython.core.display.Javascript object>",
            "application/javascript": "parent.postMessage({\"jupyterEvent\": \"custom.exercise_interaction\", \"data\": {\"interactionType\": 3, \"learnTutorialId\": 131, \"questionId\": \"6_FromPermImportanceToMarginalEffect\", \"learnToolsVersion\": \"0.2.9\", \"valueTowardsCompletion\": 0.0, \"failureMessage\": \"\", \"exceptionClass\": \"\", \"trace\": \"\", \"outcomeType\": 4}}, \"*\")"
          },
          "metadata": {}
        },
        {
          "output_type": "display_data",
          "data": {
            "text/plain": "Solution: \n    We cannot tell from the permutation importance results whether traveling a fixed latitudinal distance is more or less expensive than traveling the same longitudinal distance.\n    Possible reasons latitude feature are more important than longitude features\n    1. latitudinal distances in the dataset tend to be larger\n    2. it is more expensive to travel a fixed latitudinal distance\n    3. Both of the above\n    If abs_lon_change values were very small, longitues could be less important to the model even if the cost per mile of travel in that direction were high.\n    ",
            "text/markdown": "<span style=\"color:#33cc99\">Solution:</span> \n    We cannot tell from the permutation importance results whether traveling a fixed latitudinal distance is more or less expensive than traveling the same longitudinal distance.\n    Possible reasons latitude feature are more important than longitude features\n    1. latitudinal distances in the dataset tend to be larger\n    2. it is more expensive to travel a fixed latitudinal distance\n    3. Both of the above\n    If abs_lon_change values were very small, longitues could be less important to the model even if the cost per mile of travel in that direction were high.\n    "
          },
          "metadata": {}
        }
      ]
    },
    {
      "metadata": {
        "_uuid": "254a90fb0e0cd4b798debd6897b993b14a243f82"
      },
      "cell_type": "markdown",
      "source": "## Keep Going\n\nPermutation importance is useful useful for debugging, understanding your model, and communicating a high-level overview from your model.  \n\nNext, learn about **[partial dependence plots](https://www.kaggle.com/dansbecker/partial-plots)** to see **how** each feature affects predictions.\n\n---\n\n**[Course Home Page](https://www.kaggle.com/learn/machine-learning-explainability)**\n"
    },
    {
      "metadata": {
        "trusted": true,
        "_uuid": "6284cb3b02bedf1785333f2d710e76c76ce27365"
      },
      "cell_type": "code",
      "source": "",
      "execution_count": null,
      "outputs": []
    }
  ],
  "metadata": {
    "kernelspec": {
      "display_name": "Python 3",
      "language": "python",
      "name": "python3"
    },
    "language_info": {
      "name": "python",
      "version": "3.6.6",
      "mimetype": "text/x-python",
      "codemirror_mode": {
        "name": "ipython",
        "version": 3
      },
      "pygments_lexer": "ipython3",
      "nbconvert_exporter": "python",
      "file_extension": ".py"
    }
  },
  "nbformat": 4,
  "nbformat_minor": 1
}